{
    "metadata": {
        "kernelspec": {
            "name": "SQL",
            "display_name": "SQL",
            "language": "sql"
        },
        "language_info": {
            "name": "sql",
            "version": ""
        }
    },
    "nbformat_minor": 2,
    "nbformat": 4,
    "cells": [
        {
            "cell_type": "code",
            "source": [
                "-- need to create a table which will tell the product , category , amount_sold\n",
                "CREATE TABLE sales_akshit(\n",
                "    product_id INT , \n",
                "    category VARCHAR(20),\n",
                "    amount_sold INT\n",
                ")\n",
                "-- method which we need to use to create the table\n",
                ""
            ],
            "metadata": {
                "azdata_cell_guid": "d6a5c6ce-8f10-476a-9eae-8d0905fd5197",
                "language": "sql"
            },
            "outputs": [],
            "execution_count": null
        },
        {
            "cell_type": "code",
            "source": [
                "SELECT * FROM sales_akshit\n",
                "-- here we have created the tables as you can see--\n",
                "-- you can insert any values in the coloumn as you wish by-\n",
                "INSERT INTO sales_akshit\n",
                "VALUES(34 , 'electronics' , 540)"
            ],
            "metadata": {
                "azdata_cell_guid": "c91c1330-f5f4-4e66-ada9-82a4a84b5861",
                "language": "sql"
            },
            "outputs": [
                {
                    "output_type": "display_data",
                    "data": {
                        "text/html": "(7 rows affected)"
                    },
                    "metadata": {}
                },
                {
                    "output_type": "display_data",
                    "data": {
                        "text/html": "Total execution time: 00:00:00.047"
                    },
                    "metadata": {}
                },
                {
                    "output_type": "execute_result",
                    "metadata": {},
                    "execution_count": 1,
                    "data": {
                        "application/vnd.dataresource+json": {
                            "schema": {
                                "fields": [
                                    {
                                        "name": "product_id"
                                    },
                                    {
                                        "name": "category"
                                    },
                                    {
                                        "name": "amount_sold"
                                    },
                                    {
                                        "name": "product"
                                    },
                                    {
                                        "name": "sales_date"
                                    }
                                ]
                            },
                            "data": [
                                {
                                    "product_id": "38",
                                    "category": "book",
                                    "amount_sold": "300",
                                    "product": "harry potter",
                                    "sales_date": "2020-10-30"
                                },
                                {
                                    "product_id": "20",
                                    "category": "electronics",
                                    "amount_sold": "390",
                                    "product": "phone",
                                    "sales_date": "2024-10-30"
                                },
                                {
                                    "product_id": "55",
                                    "category": "cosmectices",
                                    "amount_sold": "408",
                                    "product": "lipstick",
                                    "sales_date": "2024-10-20"
                                },
                                {
                                    "product_id": "25",
                                    "category": "toys",
                                    "amount_sold": "550",
                                    "product": "nerf gun",
                                    "sales_date": "2024-09-29"
                                },
                                {
                                    "product_id": "26",
                                    "category": "book",
                                    "amount_sold": "650",
                                    "product": "hardy boys",
                                    "sales_date": "2020-10-30"
                                },
                                {
                                    "product_id": "54",
                                    "category": "cosmectices",
                                    "amount_sold": "500",
                                    "product": "lip balm",
                                    "sales_date": "2024-10-20"
                                },
                                {
                                    "product_id": "34",
                                    "category": "electronics",
                                    "amount_sold": "540",
                                    "product": "airpodes",
                                    "sales_date": "2024-10-30"
                                }
                            ]
                        },
                        "text/html": [
                            "<table>",
                            "<tr><th>product_id</th><th>category</th><th>amount_sold</th><th>product</th><th>sales_date</th></tr>",
                            "<tr><td>38</td><td>book</td><td>300</td><td>harry potter</td><td>2020-10-30</td></tr>",
                            "<tr><td>20</td><td>electronics</td><td>390</td><td>phone</td><td>2024-10-30</td></tr>",
                            "<tr><td>55</td><td>cosmectices</td><td>408</td><td>lipstick</td><td>2024-10-20</td></tr>",
                            "<tr><td>25</td><td>toys</td><td>550</td><td>nerf gun</td><td>2024-09-29</td></tr>",
                            "<tr><td>26</td><td>book</td><td>650</td><td>hardy boys</td><td>2020-10-30</td></tr>",
                            "<tr><td>54</td><td>cosmectices</td><td>500</td><td>lip balm</td><td>2024-10-20</td></tr>",
                            "<tr><td>34</td><td>electronics</td><td>540</td><td>airpodes</td><td>2024-10-30</td></tr>",
                            "</table>"
                        ]
                    }
                }
            ],
            "execution_count": 1
        },
        {
            "cell_type": "markdown",
            "source": [
                "**The question 1 is to the find the maximum sales for each product category in the given table**\n",
                "\n",
                "so we will begin with that"
            ],
            "metadata": {
                "azdata_cell_guid": "0a595122-b25e-4740-80db-c59c9e5e987a"
            },
            "attachments": {}
        },
        {
            "cell_type": "code",
            "source": [
                " SELECT category , count(amount_sold) as total_sales \n",
                " FROM sales_akshit\n",
                " GROUP BY category\n",
                "\n",
                " -- here we can see that by using the group by function we can calculate the total amount sold for each category--"
            ],
            "metadata": {
                "azdata_cell_guid": "10ce3281-c1ae-44ce-b0ef-e155523c3629",
                "language": "sql"
            },
            "outputs": [
                {
                    "output_type": "display_data",
                    "data": {
                        "text/html": "(4 rows affected)"
                    },
                    "metadata": {}
                },
                {
                    "output_type": "display_data",
                    "data": {
                        "text/html": "Total execution time: 00:00:00.016"
                    },
                    "metadata": {}
                },
                {
                    "output_type": "execute_result",
                    "metadata": {},
                    "execution_count": 2,
                    "data": {
                        "application/vnd.dataresource+json": {
                            "schema": {
                                "fields": [
                                    {
                                        "name": "category"
                                    },
                                    {
                                        "name": "total_sales"
                                    }
                                ]
                            },
                            "data": [
                                {
                                    "category": "book",
                                    "total_sales": "2"
                                },
                                {
                                    "category": "cosmectices",
                                    "total_sales": "2"
                                },
                                {
                                    "category": "electronics",
                                    "total_sales": "2"
                                },
                                {
                                    "category": "toys",
                                    "total_sales": "1"
                                }
                            ]
                        },
                        "text/html": [
                            "<table>",
                            "<tr><th>category</th><th>total_sales</th></tr>",
                            "<tr><td>book</td><td>2</td></tr>",
                            "<tr><td>cosmectices</td><td>2</td></tr>",
                            "<tr><td>electronics</td><td>2</td></tr>",
                            "<tr><td>toys</td><td>1</td></tr>",
                            "</table>"
                        ]
                    }
                }
            ],
            "execution_count": 2
        },
        {
            "cell_type": "code",
            "source": [
                "SELECT * FROM employee_akshit"
            ],
            "metadata": {
                "azdata_cell_guid": "2af5bafb-6337-466f-848f-02e866a4b8e7",
                "language": "sql"
            },
            "outputs": [
                {
                    "output_type": "display_data",
                    "data": {
                        "text/html": "(5 rows affected)"
                    },
                    "metadata": {}
                },
                {
                    "output_type": "display_data",
                    "data": {
                        "text/html": "Total execution time: 00:00:00.009"
                    },
                    "metadata": {}
                },
                {
                    "output_type": "execute_result",
                    "metadata": {},
                    "execution_count": 5,
                    "data": {
                        "application/vnd.dataresource+json": {
                            "schema": {
                                "fields": [
                                    {
                                        "name": "emp_id"
                                    },
                                    {
                                        "name": "emp_name"
                                    },
                                    {
                                        "name": "dept_id"
                                    },
                                    {
                                        "name": "salary"
                                    }
                                ]
                            },
                            "data": [
                                {
                                    "emp_id": "E1",
                                    "emp_name": "RAM",
                                    "dept_id": "D1",
                                    "salary": "10000"
                                },
                                {
                                    "emp_id": "E2",
                                    "emp_name": "Sohan",
                                    "dept_id": "D2",
                                    "salary": "20000"
                                },
                                {
                                    "emp_id": "E3",
                                    "emp_name": "Reeta",
                                    "dept_id": "D1",
                                    "salary": "30000"
                                },
                                {
                                    "emp_id": "E4",
                                    "emp_name": "Neha",
                                    "dept_id": "D2",
                                    "salary": "50000"
                                },
                                {
                                    "emp_id": "E5",
                                    "emp_name": "Tia",
                                    "dept_id": "D3",
                                    "salary": "40000"
                                }
                            ]
                        },
                        "text/html": [
                            "<table>",
                            "<tr><th>emp_id</th><th>emp_name</th><th>dept_id</th><th>salary</th></tr>",
                            "<tr><td>E1</td><td>RAM</td><td>D1</td><td>10000</td></tr>",
                            "<tr><td>E2</td><td>Sohan</td><td>D2</td><td>20000</td></tr>",
                            "<tr><td>E3</td><td>Reeta</td><td>D1</td><td>30000</td></tr>",
                            "<tr><td>E4</td><td>Neha</td><td>D2</td><td>50000</td></tr>",
                            "<tr><td>E5</td><td>Tia</td><td>D3</td><td>40000</td></tr>",
                            "</table>"
                        ]
                    }
                }
            ],
            "execution_count": 5
        },
        {
            "cell_type": "markdown",
            "source": [
                "**Next in the question 2 we have to create another table with the name employess**\n",
                "\n",
                "**The coloumns of the rows would be employee \\_id , dept\\_id , emp\\_name , salary**"
            ],
            "metadata": {
                "azdata_cell_guid": "35481318-86b8-41e1-bf06-454f3797f920"
            },
            "attachments": {}
        },
        {
            "cell_type": "code",
            "source": [
                "SELECT * FROM employee_akshit\n",
                "-- Here we can see that the table has been created and now we can usen it to solve the question"
            ],
            "metadata": {
                "azdata_cell_guid": "c31783dd-e9ff-4777-9a21-b7e9e6f05fdf",
                "language": "sql"
            },
            "outputs": [
                {
                    "output_type": "display_data",
                    "data": {
                        "text/html": "(5 rows affected)"
                    },
                    "metadata": {}
                },
                {
                    "output_type": "display_data",
                    "data": {
                        "text/html": "Total execution time: 00:00:00.102"
                    },
                    "metadata": {}
                },
                {
                    "output_type": "execute_result",
                    "metadata": {},
                    "execution_count": 7,
                    "data": {
                        "application/vnd.dataresource+json": {
                            "schema": {
                                "fields": [
                                    {
                                        "name": "emp_id"
                                    },
                                    {
                                        "name": "emp_name"
                                    },
                                    {
                                        "name": "dept_id"
                                    },
                                    {
                                        "name": "salary"
                                    }
                                ]
                            },
                            "data": [
                                {
                                    "emp_id": "E1",
                                    "emp_name": "RAM",
                                    "dept_id": "D1",
                                    "salary": "10000"
                                },
                                {
                                    "emp_id": "E2",
                                    "emp_name": "Sohan",
                                    "dept_id": "D2",
                                    "salary": "20000"
                                },
                                {
                                    "emp_id": "E3",
                                    "emp_name": "Reeta",
                                    "dept_id": "D1",
                                    "salary": "30000"
                                },
                                {
                                    "emp_id": "E4",
                                    "emp_name": "Neha",
                                    "dept_id": "D2",
                                    "salary": "50000"
                                },
                                {
                                    "emp_id": "E5",
                                    "emp_name": "Tia",
                                    "dept_id": "D3",
                                    "salary": "40000"
                                }
                            ]
                        },
                        "text/html": [
                            "<table>",
                            "<tr><th>emp_id</th><th>emp_name</th><th>dept_id</th><th>salary</th></tr>",
                            "<tr><td>E1</td><td>RAM</td><td>D1</td><td>10000</td></tr>",
                            "<tr><td>E2</td><td>Sohan</td><td>D2</td><td>20000</td></tr>",
                            "<tr><td>E3</td><td>Reeta</td><td>D1</td><td>30000</td></tr>",
                            "<tr><td>E4</td><td>Neha</td><td>D2</td><td>50000</td></tr>",
                            "<tr><td>E5</td><td>Tia</td><td>D3</td><td>40000</td></tr>",
                            "</table>"
                        ]
                    }
                }
            ],
            "execution_count": 7
        },
        {
            "cell_type": "markdown",
            "source": [
                "**Q2 is same as the Q1 of the previous part. We have to find the no.of employess in each department.**"
            ],
            "metadata": {
                "azdata_cell_guid": "95eeb768-7a10-4e0c-89e7-c3f9fc76074a"
            },
            "attachments": {}
        },
        {
            "cell_type": "code",
            "source": [
                " SELECT dept_id , count(emp_id) as total_emp\n",
                " FROM employee_akshit\n",
                " GROUP BY dept_id\n",
                " -- here we use the same select and group by commands to find the solution --\n",
                " "
            ],
            "metadata": {
                "azdata_cell_guid": "2988d934-9303-4dce-8918-1ce3b3d17951",
                "language": "sql"
            },
            "outputs": [
                {
                    "output_type": "display_data",
                    "data": {
                        "text/html": "(3 rows affected)"
                    },
                    "metadata": {}
                },
                {
                    "output_type": "display_data",
                    "data": {
                        "text/html": "Total execution time: 00:00:00.012"
                    },
                    "metadata": {}
                },
                {
                    "output_type": "execute_result",
                    "metadata": {},
                    "execution_count": 6,
                    "data": {
                        "application/vnd.dataresource+json": {
                            "schema": {
                                "fields": [
                                    {
                                        "name": "dept_id"
                                    },
                                    {
                                        "name": "total_emp"
                                    }
                                ]
                            },
                            "data": [
                                {
                                    "dept_id": "D1",
                                    "total_emp": "2"
                                },
                                {
                                    "dept_id": "D2",
                                    "total_emp": "2"
                                },
                                {
                                    "dept_id": "D3",
                                    "total_emp": "1"
                                }
                            ]
                        },
                        "text/html": [
                            "<table>",
                            "<tr><th>dept_id</th><th>total_emp</th></tr>",
                            "<tr><td>D1</td><td>2</td></tr>",
                            "<tr><td>D2</td><td>2</td></tr>",
                            "<tr><td>D3</td><td>1</td></tr>",
                            "</table>"
                        ]
                    }
                }
            ],
            "execution_count": 6
        },
        {
            "cell_type": "markdown",
            "source": [
                "**NOW WE WILL DO SOME PLAYING AROUND WITH THE TABLE WHERE WE ARE GOING TO FIND THE AVERAGE , MAX AND MINIMUM SALARY IN EACH DEPARTMAENT**"
            ],
            "metadata": {
                "azdata_cell_guid": "80d705d4-42d1-43c1-a639-5108e014220e"
            },
            "attachments": {}
        },
        {
            "cell_type": "code",
            "source": [
                "-- TO FIND THE AVERAGE SALARY IN EACH DEPARTMENT --\n",
                "SELECT dept_id ,AVG(salary) as avg_salary\n",
                "FROM employee_akshit\n",
                "GROUP BY dept_id\n",
                "-- to find the max salary in each department--\n",
                "SELECT dept_id ,max(salary) as max_salary\n",
                "FROM employee_akshit\n",
                "GROUP BY dept_id\n",
                "-- to find the min salary in each department--\n",
                "SELECT dept_id ,min(salary) as min_salary\n",
                "FROM employee_akshit\n",
                "GROUP BY dept_id\n",
                "\n",
                "\n",
                ""
            ],
            "metadata": {
                "azdata_cell_guid": "feacab95-7aac-4e7a-91c9-60075e6372df",
                "language": "sql"
            },
            "outputs": [
                {
                    "output_type": "display_data",
                    "data": {
                        "text/html": "(3 rows affected)"
                    },
                    "metadata": {}
                },
                {
                    "output_type": "display_data",
                    "data": {
                        "text/html": "(3 rows affected)"
                    },
                    "metadata": {}
                },
                {
                    "output_type": "display_data",
                    "data": {
                        "text/html": "(3 rows affected)"
                    },
                    "metadata": {}
                },
                {
                    "output_type": "display_data",
                    "data": {
                        "text/html": "Total execution time: 00:00:00.025"
                    },
                    "metadata": {}
                },
                {
                    "output_type": "execute_result",
                    "metadata": {},
                    "execution_count": 11,
                    "data": {
                        "application/vnd.dataresource+json": {
                            "schema": {
                                "fields": [
                                    {
                                        "name": "dept_id"
                                    },
                                    {
                                        "name": "avg_salary"
                                    }
                                ]
                            },
                            "data": [
                                {
                                    "dept_id": "D1",
                                    "avg_salary": "20000"
                                },
                                {
                                    "dept_id": "D2",
                                    "avg_salary": "35000"
                                },
                                {
                                    "dept_id": "D3",
                                    "avg_salary": "40000"
                                }
                            ]
                        },
                        "text/html": [
                            "<table>",
                            "<tr><th>dept_id</th><th>avg_salary</th></tr>",
                            "<tr><td>D1</td><td>20000</td></tr>",
                            "<tr><td>D2</td><td>35000</td></tr>",
                            "<tr><td>D3</td><td>40000</td></tr>",
                            "</table>"
                        ]
                    }
                },
                {
                    "output_type": "execute_result",
                    "metadata": {},
                    "execution_count": 11,
                    "data": {
                        "application/vnd.dataresource+json": {
                            "schema": {
                                "fields": [
                                    {
                                        "name": "dept_id"
                                    },
                                    {
                                        "name": "max_salary"
                                    }
                                ]
                            },
                            "data": [
                                {
                                    "dept_id": "D1",
                                    "max_salary": "30000"
                                },
                                {
                                    "dept_id": "D2",
                                    "max_salary": "50000"
                                },
                                {
                                    "dept_id": "D3",
                                    "max_salary": "40000"
                                }
                            ]
                        },
                        "text/html": [
                            "<table>",
                            "<tr><th>dept_id</th><th>max_salary</th></tr>",
                            "<tr><td>D1</td><td>30000</td></tr>",
                            "<tr><td>D2</td><td>50000</td></tr>",
                            "<tr><td>D3</td><td>40000</td></tr>",
                            "</table>"
                        ]
                    }
                },
                {
                    "output_type": "execute_result",
                    "metadata": {},
                    "execution_count": 11,
                    "data": {
                        "application/vnd.dataresource+json": {
                            "schema": {
                                "fields": [
                                    {
                                        "name": "dept_id"
                                    },
                                    {
                                        "name": "min_salary"
                                    }
                                ]
                            },
                            "data": [
                                {
                                    "dept_id": "D1",
                                    "min_salary": "10000"
                                },
                                {
                                    "dept_id": "D2",
                                    "min_salary": "20000"
                                },
                                {
                                    "dept_id": "D3",
                                    "min_salary": "40000"
                                }
                            ]
                        },
                        "text/html": [
                            "<table>",
                            "<tr><th>dept_id</th><th>min_salary</th></tr>",
                            "<tr><td>D1</td><td>10000</td></tr>",
                            "<tr><td>D2</td><td>20000</td></tr>",
                            "<tr><td>D3</td><td>40000</td></tr>",
                            "</table>"
                        ]
                    }
                }
            ],
            "execution_count": 11
        },
        {
            "cell_type": "markdown",
            "source": [
                "**NOW lets use the group by function again and find the most expensive poduct sold in each categoy in the sales tabel**"
            ],
            "metadata": {
                "azdata_cell_guid": "a9dea659-634d-47a3-a4ba-75d35b0d471e"
            },
            "attachments": {}
        },
        {
            "cell_type": "code",
            "source": [
                "SELECT category, MAX(amount_sold) as expensive_product \n",
                "FROM sales_akshit\n",
                "GROUP BY category \n",
                "--- her we can see all the 4 categories which we have and the most expensive product in each of the following categories-\n",
                ""
            ],
            "metadata": {
                "azdata_cell_guid": "67305b70-041e-4757-bd0b-ee3cb97a8f30",
                "language": "sql",
                "tags": []
            },
            "outputs": [
                {
                    "output_type": "display_data",
                    "data": {
                        "text/html": "(4 rows affected)"
                    },
                    "metadata": {}
                },
                {
                    "output_type": "display_data",
                    "data": {
                        "text/html": "Total execution time: 00:00:00.010"
                    },
                    "metadata": {}
                },
                {
                    "output_type": "execute_result",
                    "metadata": {},
                    "execution_count": 16,
                    "data": {
                        "application/vnd.dataresource+json": {
                            "schema": {
                                "fields": [
                                    {
                                        "name": "category"
                                    },
                                    {
                                        "name": "expensive_product"
                                    }
                                ]
                            },
                            "data": [
                                {
                                    "category": "book",
                                    "expensive_product": "650"
                                },
                                {
                                    "category": "cosmectices",
                                    "expensive_product": "500"
                                },
                                {
                                    "category": "electronics",
                                    "expensive_product": "540"
                                },
                                {
                                    "category": "toys",
                                    "expensive_product": "550"
                                }
                            ]
                        },
                        "text/html": [
                            "<table>",
                            "<tr><th>category</th><th>expensive_product</th></tr>",
                            "<tr><td>book</td><td>650</td></tr>",
                            "<tr><td>cosmectices</td><td>500</td></tr>",
                            "<tr><td>electronics</td><td>540</td></tr>",
                            "<tr><td>toys</td><td>550</td></tr>",
                            "</table>"
                        ]
                    }
                }
            ],
            "execution_count": 16
        },
        {
            "cell_type": "code",
            "source": [
                "SELECT category, avg(amount_sold) as avg_cost\n",
                "FROM sales_akshit\n",
                "GROUP BY category \n",
                "-- here we have the avg cost of each product in the products table--"
            ],
            "metadata": {
                "azdata_cell_guid": "fd0a1fa9-cb86-4356-a3f2-bc0185608ffa",
                "language": "sql"
            },
            "outputs": [
                {
                    "output_type": "display_data",
                    "data": {
                        "text/html": "(4 rows affected)"
                    },
                    "metadata": {}
                },
                {
                    "output_type": "display_data",
                    "data": {
                        "text/html": "Total execution time: 00:00:00.014"
                    },
                    "metadata": {}
                },
                {
                    "output_type": "execute_result",
                    "metadata": {},
                    "execution_count": 20,
                    "data": {
                        "application/vnd.dataresource+json": {
                            "schema": {
                                "fields": [
                                    {
                                        "name": "category"
                                    },
                                    {
                                        "name": "avg_cost"
                                    }
                                ]
                            },
                            "data": [
                                {
                                    "category": "book",
                                    "avg_cost": "475"
                                },
                                {
                                    "category": "cosmectices",
                                    "avg_cost": "454"
                                },
                                {
                                    "category": "electronics",
                                    "avg_cost": "465"
                                },
                                {
                                    "category": "toys",
                                    "avg_cost": "550"
                                }
                            ]
                        },
                        "text/html": [
                            "<table>",
                            "<tr><th>category</th><th>avg_cost</th></tr>",
                            "<tr><td>book</td><td>475</td></tr>",
                            "<tr><td>cosmectices</td><td>454</td></tr>",
                            "<tr><td>electronics</td><td>465</td></tr>",
                            "<tr><td>toys</td><td>550</td></tr>",
                            "</table>"
                        ]
                    }
                }
            ],
            "execution_count": 20
        }
    ]
}